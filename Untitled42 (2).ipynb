{
  "nbformat": 4,
  "nbformat_minor": 0,
  "metadata": {
    "colab": {
      "provenance": [],
      "gpuType": "T4"
    },
    "kernelspec": {
      "name": "python3",
      "display_name": "Python 3"
    },
    "language_info": {
      "name": "python"
    },
    "accelerator": "GPU"
  },
  "cells": [
    {
      "cell_type": "code",
      "execution_count": 1,
      "metadata": {
        "colab": {
          "base_uri": "https://localhost:8080/"
        },
        "id": "xc9vLL8SNh2A",
        "outputId": "56126368-3c65-46a3-aad8-b037b6de2801"
      },
      "outputs": [
        {
          "output_type": "stream",
          "name": "stdout",
          "text": [
            "Dataset URL: https://www.kaggle.com/datasets/jangedoo/utkface-new\n",
            "License(s): copyright-authors\n",
            "utkface-new.zip: Skipping, found more recently modified local copy (use --force to force download)\n"
          ]
        }
      ],
      "source": [
        "! kaggle datasets download jangedoo/utkface-new"
      ]
    },
    {
      "cell_type": "code",
      "source": [
        "import pandas as pd\n",
        "import numpy as np\n",
        "import matplotlib.pyplot as plt\n",
        "import seaborn as sns\n",
        "import warnings\n",
        "warnings.filterwarnings('ignore')\n",
        "import tensorflow as tf\n",
        "from tensorflow.keras.preprocessing.image import ImageDataGenerator\n",
        "from tensorflow import keras\n",
        "import cv2\n",
        "import os\n",
        "import shutil\n",
        "from sklearn.model_selection import train_test_split\n",
        "from sklearn.metrics import classification_report, confusion_matrix\n",
        "from tensorflow.keras import layers,activations,losses,optimizers,metrics\n",
        "from tensorflow.keras.models import Sequential, Model\n",
        "from tensorflow.keras.layers import Input, Add, Dense, Activation, ZeroPadding2D, BatchNormalization, Flatten, Conv2D, AveragePooling2D, MaxPooling2D, GlobalMaxPooling2D,MaxPool3D\n",
        "import random\n",
        "import zipfile"
      ],
      "metadata": {
        "id": "jbo11YFnN3wi"
      },
      "execution_count": 2,
      "outputs": []
    },
    {
      "cell_type": "code",
      "source": [
        "zip_file=zipfile.ZipFile('utkface-new.zip')\n",
        "zip_file.extractall()\n",
        "zip_file.close()"
      ],
      "metadata": {
        "id": "POYXRTeuNw7q"
      },
      "execution_count": 3,
      "outputs": []
    },
    {
      "cell_type": "code",
      "source": [
        "\n",
        "utk_path='/content/UTKFace'\n",
        "crop_path='/content/crop_part1'"
      ],
      "metadata": {
        "id": "qSGfhmcsOpEB"
      },
      "execution_count": 4,
      "outputs": []
    },
    {
      "cell_type": "code",
      "source": [
        "print('''\n",
        "Total number of images in utk folder''',len(os.listdir(utk_path)),\n",
        "'''\\nTotal number of images in crop folder''',len(os.listdir(crop_path)))"
      ],
      "metadata": {
        "colab": {
          "base_uri": "https://localhost:8080/"
        },
        "id": "K9bYxtoRPD4e",
        "outputId": "5c4fb3c5-5bb7-4ff7-b98c-6bb212b69d79"
      },
      "execution_count": 5,
      "outputs": [
        {
          "output_type": "stream",
          "name": "stdout",
          "text": [
            "\n",
            "Total number of images in utk folder 23708 \n",
            "Total number of images in crop folder 9780\n"
          ]
        }
      ]
    },
    {
      "cell_type": "code",
      "source": [
        "utk_images_path=[]\n",
        "utk_ages=[]\n",
        "utk_gender=[]"
      ],
      "metadata": {
        "id": "PW8yuwCnPagN"
      },
      "execution_count": 6,
      "outputs": []
    },
    {
      "cell_type": "code",
      "source": [
        "for i in os.listdir(utk_path):\n",
        "  utk_images_path.append(i)\n",
        "  utk_ages.append(int(i.split('_')[0]))\n",
        "  utk_gender.append(int(i.split('_')[1]))"
      ],
      "metadata": {
        "id": "UAqy2bmqQA6T"
      },
      "execution_count": 7,
      "outputs": []
    },
    {
      "cell_type": "code",
      "source": [
        "df=pd.DataFrame({'image_path':utk_images_path,'age':utk_ages,'gender':utk_gender})"
      ],
      "metadata": {
        "id": "VdE_zHNsQOsK"
      },
      "execution_count": 8,
      "outputs": []
    },
    {
      "cell_type": "code",
      "source": [
        "df.head()"
      ],
      "metadata": {
        "colab": {
          "base_uri": "https://localhost:8080/",
          "height": 206
        },
        "id": "WrNi3KT5QSQp",
        "outputId": "ec0b61d8-bd03-4884-abc7-9372ef1c102f"
      },
      "execution_count": 9,
      "outputs": [
        {
          "output_type": "execute_result",
          "data": {
            "text/plain": [
              "                              image_path  age  gender\n",
              "0  35_0_1_20170113155146201.jpg.chip.jpg   35       0\n",
              "1  26_0_3_20170119183349949.jpg.chip.jpg   26       0\n",
              "2  39_1_0_20170105002727282.jpg.chip.jpg   39       1\n",
              "3  31_0_1_20170113151857048.jpg.chip.jpg   31       0\n",
              "4   2_0_2_20161219141147608.jpg.chip.jpg    2       0"
            ],
            "text/html": [
              "\n",
              "  <div id=\"df-24cf696d-d066-4710-8001-3dd6674170fa\" class=\"colab-df-container\">\n",
              "    <div>\n",
              "<style scoped>\n",
              "    .dataframe tbody tr th:only-of-type {\n",
              "        vertical-align: middle;\n",
              "    }\n",
              "\n",
              "    .dataframe tbody tr th {\n",
              "        vertical-align: top;\n",
              "    }\n",
              "\n",
              "    .dataframe thead th {\n",
              "        text-align: right;\n",
              "    }\n",
              "</style>\n",
              "<table border=\"1\" class=\"dataframe\">\n",
              "  <thead>\n",
              "    <tr style=\"text-align: right;\">\n",
              "      <th></th>\n",
              "      <th>image_path</th>\n",
              "      <th>age</th>\n",
              "      <th>gender</th>\n",
              "    </tr>\n",
              "  </thead>\n",
              "  <tbody>\n",
              "    <tr>\n",
              "      <th>0</th>\n",
              "      <td>35_0_1_20170113155146201.jpg.chip.jpg</td>\n",
              "      <td>35</td>\n",
              "      <td>0</td>\n",
              "    </tr>\n",
              "    <tr>\n",
              "      <th>1</th>\n",
              "      <td>26_0_3_20170119183349949.jpg.chip.jpg</td>\n",
              "      <td>26</td>\n",
              "      <td>0</td>\n",
              "    </tr>\n",
              "    <tr>\n",
              "      <th>2</th>\n",
              "      <td>39_1_0_20170105002727282.jpg.chip.jpg</td>\n",
              "      <td>39</td>\n",
              "      <td>1</td>\n",
              "    </tr>\n",
              "    <tr>\n",
              "      <th>3</th>\n",
              "      <td>31_0_1_20170113151857048.jpg.chip.jpg</td>\n",
              "      <td>31</td>\n",
              "      <td>0</td>\n",
              "    </tr>\n",
              "    <tr>\n",
              "      <th>4</th>\n",
              "      <td>2_0_2_20161219141147608.jpg.chip.jpg</td>\n",
              "      <td>2</td>\n",
              "      <td>0</td>\n",
              "    </tr>\n",
              "  </tbody>\n",
              "</table>\n",
              "</div>\n",
              "    <div class=\"colab-df-buttons\">\n",
              "\n",
              "  <div class=\"colab-df-container\">\n",
              "    <button class=\"colab-df-convert\" onclick=\"convertToInteractive('df-24cf696d-d066-4710-8001-3dd6674170fa')\"\n",
              "            title=\"Convert this dataframe to an interactive table.\"\n",
              "            style=\"display:none;\">\n",
              "\n",
              "  <svg xmlns=\"http://www.w3.org/2000/svg\" height=\"24px\" viewBox=\"0 -960 960 960\">\n",
              "    <path d=\"M120-120v-720h720v720H120Zm60-500h600v-160H180v160Zm220 220h160v-160H400v160Zm0 220h160v-160H400v160ZM180-400h160v-160H180v160Zm440 0h160v-160H620v160ZM180-180h160v-160H180v160Zm440 0h160v-160H620v160Z\"/>\n",
              "  </svg>\n",
              "    </button>\n",
              "\n",
              "  <style>\n",
              "    .colab-df-container {\n",
              "      display:flex;\n",
              "      gap: 12px;\n",
              "    }\n",
              "\n",
              "    .colab-df-convert {\n",
              "      background-color: #E8F0FE;\n",
              "      border: none;\n",
              "      border-radius: 50%;\n",
              "      cursor: pointer;\n",
              "      display: none;\n",
              "      fill: #1967D2;\n",
              "      height: 32px;\n",
              "      padding: 0 0 0 0;\n",
              "      width: 32px;\n",
              "    }\n",
              "\n",
              "    .colab-df-convert:hover {\n",
              "      background-color: #E2EBFA;\n",
              "      box-shadow: 0px 1px 2px rgba(60, 64, 67, 0.3), 0px 1px 3px 1px rgba(60, 64, 67, 0.15);\n",
              "      fill: #174EA6;\n",
              "    }\n",
              "\n",
              "    .colab-df-buttons div {\n",
              "      margin-bottom: 4px;\n",
              "    }\n",
              "\n",
              "    [theme=dark] .colab-df-convert {\n",
              "      background-color: #3B4455;\n",
              "      fill: #D2E3FC;\n",
              "    }\n",
              "\n",
              "    [theme=dark] .colab-df-convert:hover {\n",
              "      background-color: #434B5C;\n",
              "      box-shadow: 0px 1px 3px 1px rgba(0, 0, 0, 0.15);\n",
              "      filter: drop-shadow(0px 1px 2px rgba(0, 0, 0, 0.3));\n",
              "      fill: #FFFFFF;\n",
              "    }\n",
              "  </style>\n",
              "\n",
              "    <script>\n",
              "      const buttonEl =\n",
              "        document.querySelector('#df-24cf696d-d066-4710-8001-3dd6674170fa button.colab-df-convert');\n",
              "      buttonEl.style.display =\n",
              "        google.colab.kernel.accessAllowed ? 'block' : 'none';\n",
              "\n",
              "      async function convertToInteractive(key) {\n",
              "        const element = document.querySelector('#df-24cf696d-d066-4710-8001-3dd6674170fa');\n",
              "        const dataTable =\n",
              "          await google.colab.kernel.invokeFunction('convertToInteractive',\n",
              "                                                    [key], {});\n",
              "        if (!dataTable) return;\n",
              "\n",
              "        const docLinkHtml = 'Like what you see? Visit the ' +\n",
              "          '<a target=\"_blank\" href=https://colab.research.google.com/notebooks/data_table.ipynb>data table notebook</a>'\n",
              "          + ' to learn more about interactive tables.';\n",
              "        element.innerHTML = '';\n",
              "        dataTable['output_type'] = 'display_data';\n",
              "        await google.colab.output.renderOutput(dataTable, element);\n",
              "        const docLink = document.createElement('div');\n",
              "        docLink.innerHTML = docLinkHtml;\n",
              "        element.appendChild(docLink);\n",
              "      }\n",
              "    </script>\n",
              "  </div>\n",
              "\n",
              "\n",
              "<div id=\"df-df42c67e-18cd-4c32-8012-86d0876647ec\">\n",
              "  <button class=\"colab-df-quickchart\" onclick=\"quickchart('df-df42c67e-18cd-4c32-8012-86d0876647ec')\"\n",
              "            title=\"Suggest charts\"\n",
              "            style=\"display:none;\">\n",
              "\n",
              "<svg xmlns=\"http://www.w3.org/2000/svg\" height=\"24px\"viewBox=\"0 0 24 24\"\n",
              "     width=\"24px\">\n",
              "    <g>\n",
              "        <path d=\"M19 3H5c-1.1 0-2 .9-2 2v14c0 1.1.9 2 2 2h14c1.1 0 2-.9 2-2V5c0-1.1-.9-2-2-2zM9 17H7v-7h2v7zm4 0h-2V7h2v10zm4 0h-2v-4h2v4z\"/>\n",
              "    </g>\n",
              "</svg>\n",
              "  </button>\n",
              "\n",
              "<style>\n",
              "  .colab-df-quickchart {\n",
              "      --bg-color: #E8F0FE;\n",
              "      --fill-color: #1967D2;\n",
              "      --hover-bg-color: #E2EBFA;\n",
              "      --hover-fill-color: #174EA6;\n",
              "      --disabled-fill-color: #AAA;\n",
              "      --disabled-bg-color: #DDD;\n",
              "  }\n",
              "\n",
              "  [theme=dark] .colab-df-quickchart {\n",
              "      --bg-color: #3B4455;\n",
              "      --fill-color: #D2E3FC;\n",
              "      --hover-bg-color: #434B5C;\n",
              "      --hover-fill-color: #FFFFFF;\n",
              "      --disabled-bg-color: #3B4455;\n",
              "      --disabled-fill-color: #666;\n",
              "  }\n",
              "\n",
              "  .colab-df-quickchart {\n",
              "    background-color: var(--bg-color);\n",
              "    border: none;\n",
              "    border-radius: 50%;\n",
              "    cursor: pointer;\n",
              "    display: none;\n",
              "    fill: var(--fill-color);\n",
              "    height: 32px;\n",
              "    padding: 0;\n",
              "    width: 32px;\n",
              "  }\n",
              "\n",
              "  .colab-df-quickchart:hover {\n",
              "    background-color: var(--hover-bg-color);\n",
              "    box-shadow: 0 1px 2px rgba(60, 64, 67, 0.3), 0 1px 3px 1px rgba(60, 64, 67, 0.15);\n",
              "    fill: var(--button-hover-fill-color);\n",
              "  }\n",
              "\n",
              "  .colab-df-quickchart-complete:disabled,\n",
              "  .colab-df-quickchart-complete:disabled:hover {\n",
              "    background-color: var(--disabled-bg-color);\n",
              "    fill: var(--disabled-fill-color);\n",
              "    box-shadow: none;\n",
              "  }\n",
              "\n",
              "  .colab-df-spinner {\n",
              "    border: 2px solid var(--fill-color);\n",
              "    border-color: transparent;\n",
              "    border-bottom-color: var(--fill-color);\n",
              "    animation:\n",
              "      spin 1s steps(1) infinite;\n",
              "  }\n",
              "\n",
              "  @keyframes spin {\n",
              "    0% {\n",
              "      border-color: transparent;\n",
              "      border-bottom-color: var(--fill-color);\n",
              "      border-left-color: var(--fill-color);\n",
              "    }\n",
              "    20% {\n",
              "      border-color: transparent;\n",
              "      border-left-color: var(--fill-color);\n",
              "      border-top-color: var(--fill-color);\n",
              "    }\n",
              "    30% {\n",
              "      border-color: transparent;\n",
              "      border-left-color: var(--fill-color);\n",
              "      border-top-color: var(--fill-color);\n",
              "      border-right-color: var(--fill-color);\n",
              "    }\n",
              "    40% {\n",
              "      border-color: transparent;\n",
              "      border-right-color: var(--fill-color);\n",
              "      border-top-color: var(--fill-color);\n",
              "    }\n",
              "    60% {\n",
              "      border-color: transparent;\n",
              "      border-right-color: var(--fill-color);\n",
              "    }\n",
              "    80% {\n",
              "      border-color: transparent;\n",
              "      border-right-color: var(--fill-color);\n",
              "      border-bottom-color: var(--fill-color);\n",
              "    }\n",
              "    90% {\n",
              "      border-color: transparent;\n",
              "      border-bottom-color: var(--fill-color);\n",
              "    }\n",
              "  }\n",
              "</style>\n",
              "\n",
              "  <script>\n",
              "    async function quickchart(key) {\n",
              "      const quickchartButtonEl =\n",
              "        document.querySelector('#' + key + ' button');\n",
              "      quickchartButtonEl.disabled = true;  // To prevent multiple clicks.\n",
              "      quickchartButtonEl.classList.add('colab-df-spinner');\n",
              "      try {\n",
              "        const charts = await google.colab.kernel.invokeFunction(\n",
              "            'suggestCharts', [key], {});\n",
              "      } catch (error) {\n",
              "        console.error('Error during call to suggestCharts:', error);\n",
              "      }\n",
              "      quickchartButtonEl.classList.remove('colab-df-spinner');\n",
              "      quickchartButtonEl.classList.add('colab-df-quickchart-complete');\n",
              "    }\n",
              "    (() => {\n",
              "      let quickchartButtonEl =\n",
              "        document.querySelector('#df-df42c67e-18cd-4c32-8012-86d0876647ec button');\n",
              "      quickchartButtonEl.style.display =\n",
              "        google.colab.kernel.accessAllowed ? 'block' : 'none';\n",
              "    })();\n",
              "  </script>\n",
              "</div>\n",
              "\n",
              "    </div>\n",
              "  </div>\n"
            ],
            "application/vnd.google.colaboratory.intrinsic+json": {
              "type": "dataframe",
              "variable_name": "df",
              "summary": "{\n  \"name\": \"df\",\n  \"rows\": 23708,\n  \"fields\": [\n    {\n      \"column\": \"image_path\",\n      \"properties\": {\n        \"dtype\": \"string\",\n        \"num_unique_values\": 23708,\n        \"samples\": [\n          \"65_0_2_20170112223941923.jpg.chip.jpg\",\n          \"70_1_0_20170117155916072.jpg.chip.jpg\",\n          \"58_0_1_20170111210843429.jpg.chip.jpg\"\n        ],\n        \"semantic_type\": \"\",\n        \"description\": \"\"\n      }\n    },\n    {\n      \"column\": \"age\",\n      \"properties\": {\n        \"dtype\": \"number\",\n        \"std\": 19,\n        \"min\": 1,\n        \"max\": 116,\n        \"num_unique_values\": 104,\n        \"samples\": [\n          38,\n          5,\n          67\n        ],\n        \"semantic_type\": \"\",\n        \"description\": \"\"\n      }\n    },\n    {\n      \"column\": \"gender\",\n      \"properties\": {\n        \"dtype\": \"number\",\n        \"std\": 0,\n        \"min\": 0,\n        \"max\": 1,\n        \"num_unique_values\": 2,\n        \"samples\": [\n          1,\n          0\n        ],\n        \"semantic_type\": \"\",\n        \"description\": \"\"\n      }\n    }\n  ]\n}"
            }
          },
          "metadata": {},
          "execution_count": 9
        }
      ]
    },
    {
      "cell_type": "code",
      "source": [
        "df.duplicated().sum()"
      ],
      "metadata": {
        "colab": {
          "base_uri": "https://localhost:8080/"
        },
        "id": "jlQgUWQIQemC",
        "outputId": "db1b0d83-df9d-489b-d18b-f105d3dff688"
      },
      "execution_count": 10,
      "outputs": [
        {
          "output_type": "execute_result",
          "data": {
            "text/plain": [
              "0"
            ]
          },
          "metadata": {},
          "execution_count": 10
        }
      ]
    },
    {
      "cell_type": "code",
      "source": [
        "df.gender.value_counts()"
      ],
      "metadata": {
        "colab": {
          "base_uri": "https://localhost:8080/",
          "height": 178
        },
        "id": "Z8-rSeFgQlY4",
        "outputId": "6949bcbd-e201-44d4-cce0-f3dda7de6167"
      },
      "execution_count": 11,
      "outputs": [
        {
          "output_type": "execute_result",
          "data": {
            "text/plain": [
              "gender\n",
              "0    12391\n",
              "1    11317\n",
              "Name: count, dtype: int64"
            ],
            "text/html": [
              "<div>\n",
              "<style scoped>\n",
              "    .dataframe tbody tr th:only-of-type {\n",
              "        vertical-align: middle;\n",
              "    }\n",
              "\n",
              "    .dataframe tbody tr th {\n",
              "        vertical-align: top;\n",
              "    }\n",
              "\n",
              "    .dataframe thead th {\n",
              "        text-align: right;\n",
              "    }\n",
              "</style>\n",
              "<table border=\"1\" class=\"dataframe\">\n",
              "  <thead>\n",
              "    <tr style=\"text-align: right;\">\n",
              "      <th></th>\n",
              "      <th>count</th>\n",
              "    </tr>\n",
              "    <tr>\n",
              "      <th>gender</th>\n",
              "      <th></th>\n",
              "    </tr>\n",
              "  </thead>\n",
              "  <tbody>\n",
              "    <tr>\n",
              "      <th>0</th>\n",
              "      <td>12391</td>\n",
              "    </tr>\n",
              "    <tr>\n",
              "      <th>1</th>\n",
              "      <td>11317</td>\n",
              "    </tr>\n",
              "  </tbody>\n",
              "</table>\n",
              "</div><br><label><b>dtype:</b> int64</label>"
            ]
          },
          "metadata": {},
          "execution_count": 11
        }
      ]
    },
    {
      "cell_type": "code",
      "source": [
        "x_train,x_test,y_train,y_test=train_test_split(df['image_path'],df[['age','gender']],test_size=0.4,random_state=42)"
      ],
      "metadata": {
        "id": "muOE0v8uQpwJ"
      },
      "execution_count": 12,
      "outputs": []
    },
    {
      "cell_type": "code",
      "source": [
        "x_train.shape,x_test.shape"
      ],
      "metadata": {
        "colab": {
          "base_uri": "https://localhost:8080/"
        },
        "id": "SJ-u38ZgRRde",
        "outputId": "ca5aacf6-a40b-4ee0-97fa-c74b9e3ea9af"
      },
      "execution_count": 13,
      "outputs": [
        {
          "output_type": "execute_result",
          "data": {
            "text/plain": [
              "((14224,), (9484,))"
            ]
          },
          "metadata": {},
          "execution_count": 13
        }
      ]
    },
    {
      "cell_type": "code",
      "source": [
        "os.mkdir('total_images')"
      ],
      "metadata": {
        "colab": {
          "base_uri": "https://localhost:8080/",
          "height": 141
        },
        "id": "F1lkgm4YTM23",
        "outputId": "157622ad-c9da-44a9-bb9a-9ec14ea5065d"
      },
      "execution_count": 14,
      "outputs": [
        {
          "output_type": "error",
          "ename": "FileExistsError",
          "evalue": "[Errno 17] File exists: 'total_images'",
          "traceback": [
            "\u001b[0;31m---------------------------------------------------------------------------\u001b[0m",
            "\u001b[0;31mFileExistsError\u001b[0m                           Traceback (most recent call last)",
            "\u001b[0;32m<ipython-input-14-e8834143002c>\u001b[0m in \u001b[0;36m<cell line: 1>\u001b[0;34m()\u001b[0m\n\u001b[0;32m----> 1\u001b[0;31m \u001b[0mos\u001b[0m\u001b[0;34m.\u001b[0m\u001b[0mmkdir\u001b[0m\u001b[0;34m(\u001b[0m\u001b[0;34m'total_images'\u001b[0m\u001b[0;34m)\u001b[0m\u001b[0;34m\u001b[0m\u001b[0;34m\u001b[0m\u001b[0m\n\u001b[0m",
            "\u001b[0;31mFileExistsError\u001b[0m: [Errno 17] File exists: 'total_images'"
          ]
        }
      ]
    },
    {
      "cell_type": "code",
      "source": [
        "x_train_images=[]\n",
        "x_test_images=[]"
      ],
      "metadata": {
        "id": "2M6i_nrgRX5L"
      },
      "execution_count": 15,
      "outputs": []
    },
    {
      "cell_type": "code",
      "source": [
        "cv2.imread(os.path.join(utk_path,x_train.iloc[0]))"
      ],
      "metadata": {
        "colab": {
          "base_uri": "https://localhost:8080/",
          "height": 241
        },
        "id": "SjGnmf67SRGH",
        "outputId": "06d09bab-c060-4755-bd43-af70f3bf9121"
      },
      "execution_count": 16,
      "outputs": [
        {
          "output_type": "execute_result",
          "data": {
            "text/plain": [
              "array([[[ 95,  97, 115],\n",
              "        [ 73,  75,  93],\n",
              "        [ 56,  59,  74],\n",
              "        ...,\n",
              "        [ 30,  25,  34],\n",
              "        [ 21,  17,  23],\n",
              "        [ 14,  10,  16]],\n",
              "\n",
              "       [[ 89,  91, 109],\n",
              "        [ 64,  66,  84],\n",
              "        [ 47,  50,  65],\n",
              "        ...,\n",
              "        [ 32,  27,  36],\n",
              "        [ 24,  20,  26],\n",
              "        [ 18,  14,  20]],\n",
              "\n",
              "       [[ 82,  84, 102],\n",
              "        [ 51,  53,  71],\n",
              "        [ 32,  35,  50],\n",
              "        ...,\n",
              "        [ 33,  30,  39],\n",
              "        [ 28,  24,  30],\n",
              "        [ 24,  20,  26]],\n",
              "\n",
              "       ...,\n",
              "\n",
              "       [[ 92, 134, 141],\n",
              "        [ 91, 133, 140],\n",
              "        [ 91, 130, 138],\n",
              "        ...,\n",
              "        [ 10,  22,  26],\n",
              "        [ 12,  23,  27],\n",
              "        [ 17,  28,  32]],\n",
              "\n",
              "       [[ 95, 140, 144],\n",
              "        [ 92, 137, 141],\n",
              "        [ 90, 132, 137],\n",
              "        ...,\n",
              "        [  5,  17,  21],\n",
              "        [  6,  17,  21],\n",
              "        [  9,  20,  24]],\n",
              "\n",
              "       [[ 99, 144, 147],\n",
              "        [ 95, 140, 143],\n",
              "        [ 91, 134, 137],\n",
              "        ...,\n",
              "        [  1,  13,  17],\n",
              "        [  1,  12,  16],\n",
              "        [  3,  14,  18]]], dtype=uint8)"
            ],
            "text/html": [
              "<style>\n",
              "      .ndarray_repr .ndarray_raw_data {\n",
              "        display: none;\n",
              "      }\n",
              "      .ndarray_repr.show_array .ndarray_raw_data {\n",
              "        display: block;\n",
              "      }\n",
              "      .ndarray_repr.show_array .ndarray_image_preview {\n",
              "        display: none;\n",
              "      }\n",
              "      </style>\n",
              "      <div id=\"id-ee79b556-ea18-4657-8d4d-2bdd48f4884e\" class=\"ndarray_repr\"><pre>ndarray (200, 200, 3) <button style=\"padding: 0 2px;\">show data</button></pre><img src=\"data:image/png;base64,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\" class=\"ndarray_image_preview\" /><pre class=\"ndarray_raw_data\">array([[[ 95,  97, 115],\n",
              "        [ 73,  75,  93],\n",
              "        [ 56,  59,  74],\n",
              "        ...,\n",
              "        [ 30,  25,  34],\n",
              "        [ 21,  17,  23],\n",
              "        [ 14,  10,  16]],\n",
              "\n",
              "       [[ 89,  91, 109],\n",
              "        [ 64,  66,  84],\n",
              "        [ 47,  50,  65],\n",
              "        ...,\n",
              "        [ 32,  27,  36],\n",
              "        [ 24,  20,  26],\n",
              "        [ 18,  14,  20]],\n",
              "\n",
              "       [[ 82,  84, 102],\n",
              "        [ 51,  53,  71],\n",
              "        [ 32,  35,  50],\n",
              "        ...,\n",
              "        [ 33,  30,  39],\n",
              "        [ 28,  24,  30],\n",
              "        [ 24,  20,  26]],\n",
              "\n",
              "       ...,\n",
              "\n",
              "       [[ 92, 134, 141],\n",
              "        [ 91, 133, 140],\n",
              "        [ 91, 130, 138],\n",
              "        ...,\n",
              "        [ 10,  22,  26],\n",
              "        [ 12,  23,  27],\n",
              "        [ 17,  28,  32]],\n",
              "\n",
              "       [[ 95, 140, 144],\n",
              "        [ 92, 137, 141],\n",
              "        [ 90, 132, 137],\n",
              "        ...,\n",
              "        [  5,  17,  21],\n",
              "        [  6,  17,  21],\n",
              "        [  9,  20,  24]],\n",
              "\n",
              "       [[ 99, 144, 147],\n",
              "        [ 95, 140, 143],\n",
              "        [ 91, 134, 137],\n",
              "        ...,\n",
              "        [  1,  13,  17],\n",
              "        [  1,  12,  16],\n",
              "        [  3,  14,  18]]], dtype=uint8)</pre></div><script>\n",
              "      (() => {\n",
              "      const titles = ['show data', 'hide data'];\n",
              "      let index = 0\n",
              "      document.querySelector('#id-ee79b556-ea18-4657-8d4d-2bdd48f4884e button').onclick = (e) => {\n",
              "        document.querySelector('#id-ee79b556-ea18-4657-8d4d-2bdd48f4884e').classList.toggle('show_array');\n",
              "        index = (++index) % 2;\n",
              "        document.querySelector('#id-ee79b556-ea18-4657-8d4d-2bdd48f4884e button').textContent = titles[index];\n",
              "        e.preventDefault();\n",
              "        e.stopPropagation();\n",
              "      }\n",
              "      })();\n",
              "    </script>"
            ]
          },
          "metadata": {},
          "execution_count": 16
        }
      ]
    },
    {
      "cell_type": "code",
      "source": [
        "for i in x_train:\n",
        "  x_train_images.append(cv2.resize(cv2.imread(os.path.join(utk_path,i)),(224,224)))"
      ],
      "metadata": {
        "id": "OMw04nMjStIi"
      },
      "execution_count": 17,
      "outputs": []
    },
    {
      "cell_type": "code",
      "source": [
        "for i in x_test:\n",
        "  x_test_images.append(cv2.resize(cv2.imread(os.path.join(utk_path,i)),(224,224)))"
      ],
      "metadata": {
        "id": "JRUletcMa5nS"
      },
      "execution_count": 18,
      "outputs": []
    },
    {
      "cell_type": "code",
      "source": [
        "x_train_images=np.array(x_train_images)\n",
        "x_test_images=np.array(x_test_images)"
      ],
      "metadata": {
        "id": "SB2QWZYZXjTU"
      },
      "execution_count": 19,
      "outputs": []
    },
    {
      "cell_type": "code",
      "source": [
        "x_train_ages=np.array(y_train['age']).reshape(-1,1)\n",
        "x_train_gender=np.array(y_train['gender']).reshape(-1,1)\n",
        "x_test_ages=np.array(y_test['age']).reshape(-1,1)\n",
        "x_test_gender=np.array(y_test['gender']).reshape(-1,1)"
      ],
      "metadata": {
        "id": "DcjCDuPcXoHa"
      },
      "execution_count": 20,
      "outputs": []
    },
    {
      "cell_type": "code",
      "source": [
        "input=Input(shape=(224,224,3))\n",
        "x=Conv2D(32,(3,3),strides=(2,2),padding='same')(input)\n",
        "x=BatchNormalization()(x)\n",
        "x=Activation('relu')(x)\n",
        "x=MaxPooling2D()(x)\n",
        "x=Conv2D(64,(3,3),strides=(2,2),padding='same')(x)\n",
        "x=BatchNormalization()(x)\n",
        "x=Activation('relu')(x)\n",
        "x=MaxPooling2D()(x)\n",
        "x=Conv2D(128,(3,3),strides=(2,2),padding='same')(x)\n",
        "x=BatchNormalization()(x)\n",
        "x=Activation('relu')(x)\n",
        "x=MaxPooling2D()(x)\n",
        "x=Conv2D(256,(3,3),strides=(2,2),padding='same')(x)\n",
        "x=BatchNormalization()(x)\n",
        "x=Activation('relu')(x)\n",
        "x=MaxPooling2D()(x)\n",
        "x=Flatten()(x)\n",
        "x=Dense(128,activation='relu')(x)\n",
        "x=Dense(64,activation='relu')(x)\n",
        "x=Dense(32,activation='relu')(x)\n",
        "output1=Dense(1,activation='linear',name='age')(x)\n",
        "output2=Dense(1,activation='sigmoid',name='gender')(x)\n",
        "model=Model(inputs=input,outputs={'age':output1,'gender':output2})"
      ],
      "metadata": {
        "id": "xasC-uQNX_Ep"
      },
      "execution_count": 21,
      "outputs": []
    },
    {
      "cell_type": "code",
      "source": [
        "model.compile(optimizer='adam',loss={'age':'mae','gender':'binary_crossentropy'},metrics={'age':'mse','gender':'accuracy'})"
      ],
      "metadata": {
        "id": "ajIlx4zqaDLW"
      },
      "execution_count": 22,
      "outputs": []
    },
    {
      "cell_type": "code",
      "source": [
        "x_test_images.shape,x_train_images.shape"
      ],
      "metadata": {
        "colab": {
          "base_uri": "https://localhost:8080/"
        },
        "id": "zO-yV-0Yaxyw",
        "outputId": "f3b133a6-ac87-4a38-ed77-c0a47f4089ee"
      },
      "execution_count": 23,
      "outputs": [
        {
          "output_type": "execute_result",
          "data": {
            "text/plain": [
              "((9484, 224, 224, 3), (14224, 224, 224, 3))"
            ]
          },
          "metadata": {},
          "execution_count": 23
        }
      ]
    },
    {
      "cell_type": "code",
      "source": [
        "model.fit(x_train_images,{'age':x_train_ages,'gender':x_train_gender},batch_size=32,epochs=10,\n",
        "          validation_data=(x_test_images,{'age':x_test_ages,\n",
        "                                          'gender':x_test_gender}))"
      ],
      "metadata": {
        "colab": {
          "base_uri": "https://localhost:8080/"
        },
        "id": "XUMUgDu4aIzS",
        "outputId": "46f9e03a-5f34-4717-b318-62e3e549687e"
      },
      "execution_count": 24,
      "outputs": [
        {
          "output_type": "stream",
          "name": "stdout",
          "text": [
            "Epoch 1/10\n",
            "\u001b[1m445/445\u001b[0m \u001b[32m━━━━━━━━━━━━━━━━━━━━\u001b[0m\u001b[37m\u001b[0m \u001b[1m29s\u001b[0m 40ms/step - age_loss: 13.3698 - age_mse: 357.2574 - gender_accuracy: 0.6992 - gender_loss: 0.5654 - loss: 13.9352 - val_age_loss: 10.2050 - val_age_mse: 182.0650 - val_gender_accuracy: 0.7280 - val_gender_loss: 0.5090 - val_loss: 10.7117\n",
            "Epoch 2/10\n",
            "\u001b[1m445/445\u001b[0m \u001b[32m━━━━━━━━━━━━━━━━━━━━\u001b[0m\u001b[37m\u001b[0m \u001b[1m25s\u001b[0m 19ms/step - age_loss: 8.3842 - age_mse: 141.8421 - gender_accuracy: 0.8027 - gender_loss: 0.4219 - loss: 8.8062 - val_age_loss: 8.3325 - val_age_mse: 134.4910 - val_gender_accuracy: 0.8111 - val_gender_loss: 0.3897 - val_loss: 8.7179\n",
            "Epoch 3/10\n",
            "\u001b[1m445/445\u001b[0m \u001b[32m━━━━━━━━━━━━━━━━━━━━\u001b[0m\u001b[37m\u001b[0m \u001b[1m10s\u001b[0m 19ms/step - age_loss: 7.3303 - age_mse: 111.5182 - gender_accuracy: 0.8403 - gender_loss: 0.3532 - loss: 7.6836 - val_age_loss: 8.6587 - val_age_mse: 159.0675 - val_gender_accuracy: 0.8407 - val_gender_loss: 0.3447 - val_loss: 9.0039\n",
            "Epoch 4/10\n",
            "\u001b[1m445/445\u001b[0m \u001b[32m━━━━━━━━━━━━━━━━━━━━\u001b[0m\u001b[37m\u001b[0m \u001b[1m8s\u001b[0m 17ms/step - age_loss: 6.7477 - age_mse: 93.4379 - gender_accuracy: 0.8529 - gender_loss: 0.3222 - loss: 7.0699 - val_age_loss: 7.1834 - val_age_mse: 100.4767 - val_gender_accuracy: 0.8282 - val_gender_loss: 0.3562 - val_loss: 7.5352\n",
            "Epoch 5/10\n",
            "\u001b[1m445/445\u001b[0m \u001b[32m━━━━━━━━━━━━━━━━━━━━\u001b[0m\u001b[37m\u001b[0m \u001b[1m12s\u001b[0m 20ms/step - age_loss: 6.3686 - age_mse: 83.4286 - gender_accuracy: 0.8539 - gender_loss: 0.3226 - loss: 6.6912 - val_age_loss: 10.4530 - val_age_mse: 191.1033 - val_gender_accuracy: 0.8144 - val_gender_loss: 0.3800 - val_loss: 10.8346\n",
            "Epoch 6/10\n",
            "\u001b[1m445/445\u001b[0m \u001b[32m━━━━━━━━━━━━━━━━━━━━\u001b[0m\u001b[37m\u001b[0m \u001b[1m8s\u001b[0m 18ms/step - age_loss: 6.0835 - age_mse: 76.6141 - gender_accuracy: 0.8656 - gender_loss: 0.2911 - loss: 6.3745 - val_age_loss: 6.7313 - val_age_mse: 93.3461 - val_gender_accuracy: 0.8458 - val_gender_loss: 0.3283 - val_loss: 7.0592\n",
            "Epoch 7/10\n",
            "\u001b[1m445/445\u001b[0m \u001b[32m━━━━━━━━━━━━━━━━━━━━\u001b[0m\u001b[37m\u001b[0m \u001b[1m7s\u001b[0m 16ms/step - age_loss: 5.6488 - age_mse: 66.8726 - gender_accuracy: 0.8710 - gender_loss: 0.2855 - loss: 5.9342 - val_age_loss: 7.4851 - val_age_mse: 110.9769 - val_gender_accuracy: 0.7930 - val_gender_loss: 0.4339 - val_loss: 7.9163\n",
            "Epoch 8/10\n",
            "\u001b[1m445/445\u001b[0m \u001b[32m━━━━━━━━━━━━━━━━━━━━\u001b[0m\u001b[37m\u001b[0m \u001b[1m8s\u001b[0m 17ms/step - age_loss: 5.4527 - age_mse: 60.9383 - gender_accuracy: 0.8758 - gender_loss: 0.2792 - loss: 5.7320 - val_age_loss: 7.1753 - val_age_mse: 110.0796 - val_gender_accuracy: 0.8164 - val_gender_loss: 0.4020 - val_loss: 7.5731\n",
            "Epoch 9/10\n",
            "\u001b[1m445/445\u001b[0m \u001b[32m━━━━━━━━━━━━━━━━━━━━\u001b[0m\u001b[37m\u001b[0m \u001b[1m11s\u001b[0m 18ms/step - age_loss: 5.2869 - age_mse: 57.0877 - gender_accuracy: 0.8779 - gender_loss: 0.2734 - loss: 5.5603 - val_age_loss: 10.2169 - val_age_mse: 174.6480 - val_gender_accuracy: 0.8388 - val_gender_loss: 0.3676 - val_loss: 10.5880\n",
            "Epoch 10/10\n",
            "\u001b[1m445/445\u001b[0m \u001b[32m━━━━━━━━━━━━━━━━━━━━\u001b[0m\u001b[37m\u001b[0m \u001b[1m7s\u001b[0m 17ms/step - age_loss: 4.9236 - age_mse: 51.2059 - gender_accuracy: 0.8826 - gender_loss: 0.2581 - loss: 5.1817 - val_age_loss: 6.3872 - val_age_mse: 86.6656 - val_gender_accuracy: 0.8617 - val_gender_loss: 0.3151 - val_loss: 6.6990\n"
          ]
        },
        {
          "output_type": "execute_result",
          "data": {
            "text/plain": [
              "<keras.src.callbacks.history.History at 0x78513bc19150>"
            ]
          },
          "metadata": {},
          "execution_count": 24
        }
      ]
    },
    {
      "cell_type": "code",
      "source": [
        "crop_images=[]\n",
        "crop_ages=[]\n",
        "crop_gender=[]\n",
        "for i in os.listdir(crop_path):\n",
        "  crop_images.append(cv2.resize(cv2.imread(os.path.join(crop_path,i)),(224,224)))\n",
        "  crop_ages.append(int(i.split('_')[0]))\n",
        "  crop_gender.append(int(i.split('_')[1]))\n",
        ""
      ],
      "metadata": {
        "id": "Iu1AR41IaK5U"
      },
      "execution_count": 25,
      "outputs": []
    },
    {
      "cell_type": "code",
      "source": [
        "crop_images=np.array(crop_images)\n",
        "crop_ages=np.array(crop_ages).reshape(-1,1)\n",
        "crop_gender=np.array(crop_gender).reshape(-1,1)"
      ],
      "metadata": {
        "id": "gtUyMSnSoFZv"
      },
      "execution_count": 26,
      "outputs": []
    },
    {
      "cell_type": "code",
      "source": [
        "model.evaluate(crop_images,{'age':crop_ages,'gender':crop_gender})"
      ],
      "metadata": {
        "colab": {
          "base_uri": "https://localhost:8080/"
        },
        "id": "fTAVJ_vDoKFe",
        "outputId": "a05a54e4-a22c-45f5-9867-3b12ef136a1b"
      },
      "execution_count": 27,
      "outputs": [
        {
          "output_type": "stream",
          "name": "stdout",
          "text": [
            "\u001b[1m306/306\u001b[0m \u001b[32m━━━━━━━━━━━━━━━━━━━━\u001b[0m\u001b[37m\u001b[0m \u001b[1m3s\u001b[0m 10ms/step - age_loss: 5.3486 - age_mse: 68.3081 - gender_accuracy: 0.8157 - gender_loss: 0.3641 - loss: 5.7128\n"
          ]
        },
        {
          "output_type": "execute_result",
          "data": {
            "text/plain": [
              "[5.693263053894043,\n",
              " 5.319789886474609,\n",
              " 0.37221193313598633,\n",
              " 68.3718490600586,\n",
              " 0.8110429644584656]"
            ]
          },
          "metadata": {},
          "execution_count": 27
        }
      ]
    },
    {
      "cell_type": "code",
      "source": [
        "model.save('age_gender_model.h5')"
      ],
      "metadata": {
        "colab": {
          "base_uri": "https://localhost:8080/"
        },
        "id": "DCbhwB0GoLz3",
        "outputId": "10f5abc1-f824-4fa6-c3fb-76bb2d0b6375"
      },
      "execution_count": 28,
      "outputs": [
        {
          "output_type": "stream",
          "name": "stderr",
          "text": [
            "WARNING:absl:You are saving your model as an HDF5 file via `model.save()` or `keras.saving.save_model(model)`. This file format is considered legacy. We recommend using instead the native Keras format, e.g. `model.save('my_model.keras')` or `keras.saving.save_model(model, 'my_model.keras')`. \n"
          ]
        }
      ]
    },
    {
      "cell_type": "code",
      "source": [
        "from google.colab import files\n",
        "files.download('age_gender_model.h5')"
      ],
      "metadata": {
        "colab": {
          "base_uri": "https://localhost:8080/",
          "height": 17
        },
        "id": "SdNIdedToTjr",
        "outputId": "0925ab97-db2c-41dd-f8d5-0cd6e66c578b"
      },
      "execution_count": 29,
      "outputs": [
        {
          "output_type": "display_data",
          "data": {
            "text/plain": [
              "<IPython.core.display.Javascript object>"
            ],
            "application/javascript": [
              "\n",
              "    async function download(id, filename, size) {\n",
              "      if (!google.colab.kernel.accessAllowed) {\n",
              "        return;\n",
              "      }\n",
              "      const div = document.createElement('div');\n",
              "      const label = document.createElement('label');\n",
              "      label.textContent = `Downloading \"${filename}\": `;\n",
              "      div.appendChild(label);\n",
              "      const progress = document.createElement('progress');\n",
              "      progress.max = size;\n",
              "      div.appendChild(progress);\n",
              "      document.body.appendChild(div);\n",
              "\n",
              "      const buffers = [];\n",
              "      let downloaded = 0;\n",
              "\n",
              "      const channel = await google.colab.kernel.comms.open(id);\n",
              "      // Send a message to notify the kernel that we're ready.\n",
              "      channel.send({})\n",
              "\n",
              "      for await (const message of channel.messages) {\n",
              "        // Send a message to notify the kernel that we're ready.\n",
              "        channel.send({})\n",
              "        if (message.buffers) {\n",
              "          for (const buffer of message.buffers) {\n",
              "            buffers.push(buffer);\n",
              "            downloaded += buffer.byteLength;\n",
              "            progress.value = downloaded;\n",
              "          }\n",
              "        }\n",
              "      }\n",
              "      const blob = new Blob(buffers, {type: 'application/binary'});\n",
              "      const a = document.createElement('a');\n",
              "      a.href = window.URL.createObjectURL(blob);\n",
              "      a.download = filename;\n",
              "      div.appendChild(a);\n",
              "      a.click();\n",
              "      div.remove();\n",
              "    }\n",
              "  "
            ]
          },
          "metadata": {}
        },
        {
          "output_type": "display_data",
          "data": {
            "text/plain": [
              "<IPython.core.display.Javascript object>"
            ],
            "application/javascript": [
              "download(\"download_515e74dd-5874-4a97-baed-de9156602cc4\", \"age_gender_model.h5\", 5307944)"
            ]
          },
          "metadata": {}
        }
      ]
    },
    {
      "cell_type": "code",
      "source": [
        "i=3"
      ],
      "metadata": {
        "id": "KVVf87phqNBE"
      },
      "execution_count": 87,
      "outputs": []
    },
    {
      "cell_type": "code",
      "source": [
        "img=cv2.resize(cv2.imread(os.path.join(crop_path,os.listdir(crop_path)[i])),(224,224))"
      ],
      "metadata": {
        "id": "39EIfrWLoWJa"
      },
      "execution_count": 88,
      "outputs": []
    },
    {
      "cell_type": "code",
      "source": [
        "img"
      ],
      "metadata": {
        "colab": {
          "base_uri": "https://localhost:8080/",
          "height": 265
        },
        "id": "eSdt4bDRpWy5",
        "outputId": "dd471c0d-8de0-4a54-c803-f401e43d4c4a"
      },
      "execution_count": 89,
      "outputs": [
        {
          "output_type": "execute_result",
          "data": {
            "text/plain": [
              "array([[[  0,   2,  15],\n",
              "        [  0,   3,  16],\n",
              "        [  0,   4,  18],\n",
              "        ...,\n",
              "        [ 34,  65,  94],\n",
              "        [ 33,  64,  95],\n",
              "        [ 33,  64,  95]],\n",
              "\n",
              "       [[  0,   2,  15],\n",
              "        [  0,   3,  16],\n",
              "        [  0,   3,  17],\n",
              "        ...,\n",
              "        [ 34,  65,  94],\n",
              "        [ 33,  64,  95],\n",
              "        [ 33,  64,  95]],\n",
              "\n",
              "       [[  0,   2,  15],\n",
              "        [  0,   2,  15],\n",
              "        [  0,   2,  17],\n",
              "        ...,\n",
              "        [ 34,  65,  94],\n",
              "        [ 33,  64,  95],\n",
              "        [ 33,  64,  95]],\n",
              "\n",
              "       ...,\n",
              "\n",
              "       [[ 25,  25,  25],\n",
              "        [ 29,  29,  29],\n",
              "        [ 29,  29,  29],\n",
              "        ...,\n",
              "        [ 40,  72, 108],\n",
              "        [ 40,  72, 108],\n",
              "        [ 40,  72, 108]],\n",
              "\n",
              "       [[ 26,  26,  26],\n",
              "        [ 29,  29,  29],\n",
              "        [ 28,  28,  28],\n",
              "        ...,\n",
              "        [ 40,  72, 108],\n",
              "        [ 41,  73, 109],\n",
              "        [ 41,  73, 109]],\n",
              "\n",
              "       [[ 29,  29,  29],\n",
              "        [ 31,  31,  31],\n",
              "        [ 28,  28,  28],\n",
              "        ...,\n",
              "        [ 41,  73, 109],\n",
              "        [ 41,  73, 109],\n",
              "        [ 42,  74, 110]]], dtype=uint8)"
            ],
            "text/html": [
              "<style>\n",
              "      .ndarray_repr .ndarray_raw_data {\n",
              "        display: none;\n",
              "      }\n",
              "      .ndarray_repr.show_array .ndarray_raw_data {\n",
              "        display: block;\n",
              "      }\n",
              "      .ndarray_repr.show_array .ndarray_image_preview {\n",
              "        display: none;\n",
              "      }\n",
              "      </style>\n",
              "      <div id=\"id-87bc4468-e6fc-4225-9e68-2d31edd034a6\" class=\"ndarray_repr\"><pre>ndarray (224, 224, 3) <button style=\"padding: 0 2px;\">show data</button></pre><img src=\"data:image/png;base64,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\" class=\"ndarray_image_preview\" /><pre class=\"ndarray_raw_data\">array([[[  0,   2,  15],\n",
              "        [  0,   3,  16],\n",
              "        [  0,   4,  18],\n",
              "        ...,\n",
              "        [ 34,  65,  94],\n",
              "        [ 33,  64,  95],\n",
              "        [ 33,  64,  95]],\n",
              "\n",
              "       [[  0,   2,  15],\n",
              "        [  0,   3,  16],\n",
              "        [  0,   3,  17],\n",
              "        ...,\n",
              "        [ 34,  65,  94],\n",
              "        [ 33,  64,  95],\n",
              "        [ 33,  64,  95]],\n",
              "\n",
              "       [[  0,   2,  15],\n",
              "        [  0,   2,  15],\n",
              "        [  0,   2,  17],\n",
              "        ...,\n",
              "        [ 34,  65,  94],\n",
              "        [ 33,  64,  95],\n",
              "        [ 33,  64,  95]],\n",
              "\n",
              "       ...,\n",
              "\n",
              "       [[ 25,  25,  25],\n",
              "        [ 29,  29,  29],\n",
              "        [ 29,  29,  29],\n",
              "        ...,\n",
              "        [ 40,  72, 108],\n",
              "        [ 40,  72, 108],\n",
              "        [ 40,  72, 108]],\n",
              "\n",
              "       [[ 26,  26,  26],\n",
              "        [ 29,  29,  29],\n",
              "        [ 28,  28,  28],\n",
              "        ...,\n",
              "        [ 40,  72, 108],\n",
              "        [ 41,  73, 109],\n",
              "        [ 41,  73, 109]],\n",
              "\n",
              "       [[ 29,  29,  29],\n",
              "        [ 31,  31,  31],\n",
              "        [ 28,  28,  28],\n",
              "        ...,\n",
              "        [ 41,  73, 109],\n",
              "        [ 41,  73, 109],\n",
              "        [ 42,  74, 110]]], dtype=uint8)</pre></div><script>\n",
              "      (() => {\n",
              "      const titles = ['show data', 'hide data'];\n",
              "      let index = 0\n",
              "      document.querySelector('#id-87bc4468-e6fc-4225-9e68-2d31edd034a6 button').onclick = (e) => {\n",
              "        document.querySelector('#id-87bc4468-e6fc-4225-9e68-2d31edd034a6').classList.toggle('show_array');\n",
              "        index = (++index) % 2;\n",
              "        document.querySelector('#id-87bc4468-e6fc-4225-9e68-2d31edd034a6 button').textContent = titles[index];\n",
              "        e.preventDefault();\n",
              "        e.stopPropagation();\n",
              "      }\n",
              "      })();\n",
              "    </script>"
            ]
          },
          "metadata": {},
          "execution_count": 89
        }
      ]
    },
    {
      "cell_type": "code",
      "source": [
        "print('y_age',crop_ages[i],'y_gender',crop_gender[i])"
      ],
      "metadata": {
        "colab": {
          "base_uri": "https://localhost:8080/"
        },
        "id": "JlQjaaxyp7Vq",
        "outputId": "665f6d66-0069-4479-c32d-5883608329d2"
      },
      "execution_count": 90,
      "outputs": [
        {
          "output_type": "stream",
          "name": "stdout",
          "text": [
            "y_age [50] y_gender [0]\n"
          ]
        }
      ]
    },
    {
      "cell_type": "code",
      "source": [
        "img_1=img.reshape(1,224,224,3)"
      ],
      "metadata": {
        "id": "k4BbkG_JocK4"
      },
      "execution_count": 91,
      "outputs": []
    },
    {
      "cell_type": "code",
      "source": [
        "pred=model.predict(img_1)"
      ],
      "metadata": {
        "colab": {
          "base_uri": "https://localhost:8080/"
        },
        "id": "xS6zdVXWoqe7",
        "outputId": "8b5b1809-6607-4de3-fba2-38365bcb030d"
      },
      "execution_count": 92,
      "outputs": [
        {
          "output_type": "stream",
          "name": "stdout",
          "text": [
            "\u001b[1m1/1\u001b[0m \u001b[32m━━━━━━━━━━━━━━━━━━━━\u001b[0m\u001b[37m\u001b[0m \u001b[1m0s\u001b[0m 33ms/step\n"
          ]
        }
      ]
    },
    {
      "cell_type": "code",
      "source": [
        "pred"
      ],
      "metadata": {
        "colab": {
          "base_uri": "https://localhost:8080/"
        },
        "id": "qCRDl_EqoyOW",
        "outputId": "0566f71e-e85b-4815-857c-830b247576b7"
      },
      "execution_count": 93,
      "outputs": [
        {
          "output_type": "execute_result",
          "data": {
            "text/plain": [
              "{'age': array([[42.31243]], dtype=float32),\n",
              " 'gender': array([[0.00074237]], dtype=float32)}"
            ]
          },
          "metadata": {},
          "execution_count": 93
        }
      ]
    },
    {
      "cell_type": "code",
      "source": [
        "def age_gender_predict(pred):\n",
        "  age=int(pred['age'][0][0])\n",
        "  gender=pred['gender'][0][0]\n",
        "  if gender>0.5:\n",
        "    gender='Female'\n",
        "  else:\n",
        "    gender='Male'\n",
        "  return age,gender\n"
      ],
      "metadata": {
        "id": "WblCMMvno4go"
      },
      "execution_count": 94,
      "outputs": []
    },
    {
      "cell_type": "code",
      "source": [
        "age_gender_predict(pred)"
      ],
      "metadata": {
        "colab": {
          "base_uri": "https://localhost:8080/"
        },
        "id": "Ccx2SlZCpRI9",
        "outputId": "f59cc789-e24e-4c34-e691-68aacdde1fdb"
      },
      "execution_count": 95,
      "outputs": [
        {
          "output_type": "execute_result",
          "data": {
            "text/plain": [
              "(42, 'Male')"
            ]
          },
          "metadata": {},
          "execution_count": 95
        }
      ]
    },
    {
      "cell_type": "code",
      "source": [],
      "metadata": {
        "id": "pewPlyr1pSg_"
      },
      "execution_count": null,
      "outputs": []
    }
  ]
}