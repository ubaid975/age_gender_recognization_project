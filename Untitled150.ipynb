{
 "cells": [
  {
   "cell_type": "code",
   "execution_count": 58,
   "id": "3af37b6f-9ca5-4bf7-a93f-291add4381a3",
   "metadata": {},
   "outputs": [],
   "source": [
    "import gradio\n",
    "import tensorflow as tf\n",
    "from tensorflow import keras\n",
    "import cv2\n",
    "import os\n",
    "import numpy as np"
   ]
  },
  {
   "cell_type": "code",
   "execution_count": 6,
   "id": "8cf42b17-3941-43d0-8811-7994a0668c93",
   "metadata": {},
   "outputs": [],
   "source": [
    "model_path=r'C:\\Users\\ubaid\\Downloads\\age_gender_model.h5'"
   ]
  },
  {
   "cell_type": "code",
   "execution_count": 10,
   "id": "6fe8a161-c3b0-494a-b6f4-024c43b6e385",
   "metadata": {},
   "outputs": [],
   "source": [
    "model=keras.models.load_model(model_path,compile=False)"
   ]
  },
  {
   "cell_type": "code",
   "execution_count": 60,
   "id": "59593851-a598-4c12-bd2c-1c163f9e9cfe",
   "metadata": {},
   "outputs": [],
   "source": [
    "def app(image):\n",
    "    image=image\n",
    "    image=cv2.resize(image,(224,224))\n",
    "    image=image.reshape(1,224,224,3)\n",
    "    pred=model.predict(image)\n",
    "    age=int(pred['age'][0][0])\n",
    "    gender=np.where(pred['gender']>0.5,'Female','Male')[0][0]\n",
    "    \n",
    "    return str(age),str(gender)"
   ]
  },
  {
   "cell_type": "code",
   "execution_count": 66,
   "id": "48ab47d2-5142-4517-a4e1-1659b29719c8",
   "metadata": {},
   "outputs": [
    {
     "name": "stdout",
     "output_type": "stream",
     "text": [
      "* Running on local URL:  http://127.0.0.1:7873\n",
      "* Running on public URL: https://737d370761da4f4301.gradio.live\n",
      "\n",
      "This share link expires in 72 hours. For free permanent hosting and GPU upgrades, run `gradio deploy` from the terminal in the working directory to deploy to Hugging Face Spaces (https://huggingface.co/spaces)\n"
     ]
    },
    {
     "data": {
      "text/html": [
       "<div><iframe src=\"https://737d370761da4f4301.gradio.live\" width=\"100%\" height=\"500\" allow=\"autoplay; camera; microphone; clipboard-read; clipboard-write;\" frameborder=\"0\" allowfullscreen></iframe></div>"
      ],
      "text/plain": [
       "<IPython.core.display.HTML object>"
      ]
     },
     "metadata": {},
     "output_type": "display_data"
    },
    {
     "data": {
      "text/plain": []
     },
     "execution_count": 66,
     "metadata": {},
     "output_type": "execute_result"
    }
   ],
   "source": [
    "gradio.Interface(\n",
    "    fn=app,\n",
    "    inputs=['image'],\n",
    "    outputs=['label','label']\n",
    ",title='Age Gender Detection',theme=gradio.themes.Soft()).launch(share=True)"
   ]
  },
  {
   "cell_type": "code",
   "execution_count": null,
   "id": "4a4941c3-4253-420c-bb34-0f687defba4e",
   "metadata": {},
   "outputs": [],
   "source": []
  }
 ],
 "metadata": {
  "kernelspec": {
   "display_name": "Python 3 (ipykernel)",
   "language": "python",
   "name": "python3"
  },
  "language_info": {
   "codemirror_mode": {
    "name": "ipython",
    "version": 3
   },
   "file_extension": ".py",
   "mimetype": "text/x-python",
   "name": "python",
   "nbconvert_exporter": "python",
   "pygments_lexer": "ipython3",
   "version": "3.12.7"
  }
 },
 "nbformat": 4,
 "nbformat_minor": 5
}
